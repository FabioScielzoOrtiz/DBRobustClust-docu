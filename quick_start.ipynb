{
 "cells": [
  {
   "cell_type": "markdown",
   "id": "37eeb7f3",
   "metadata": {},
   "source": [
    "# Quick Start"
   ]
  },
  {
   "cell_type": "markdown",
   "id": "cea22319",
   "metadata": {},
   "source": [
    "## Installation"
   ]
  },
  {
   "cell_type": "code",
   "execution_count": null,
   "id": "553d96ff",
   "metadata": {},
   "outputs": [],
   "source": [
    "# pip install DBRobustClust"
   ]
  },
  {
   "cell_type": "markdown",
   "id": "f721719d",
   "metadata": {},
   "source": [
    "\n",
    "\n",
    "To see the available versions of the package go to the release history at PyPi: https://pypi.org/project/DBRobustClust/#history\n"
   ]
  },
  {
   "cell_type": "markdown",
   "id": "1fc10364",
   "metadata": {},
   "source": [
    "## Example"
   ]
  },
  {
   "cell_type": "code",
   "execution_count": 3,
   "id": "16e64878",
   "metadata": {},
   "outputs": [],
   "source": [
    "import pandas as pd\n",
    "from DBRobustClust.models import FoldFastKmedoidsGGower"
   ]
  },
  {
   "cell_type": "code",
   "execution_count": null,
   "id": "e5f88f7a",
   "metadata": {},
   "outputs": [],
   "source": []
  },
  {
   "cell_type": "markdown",
   "id": "7ae2948c",
   "metadata": {},
   "source": [
    "\n",
    "```python\n",
    "\n",
    "\n",
    "data_url = \"https://raw.githubusercontent.com/FabioScielzoOrtiz/DBRobustClust-demo/refs/heads/main/data/madrid_houses_processed.csv\"\n",
    "\n",
    "quant_cols = ['sq_mt_built', 'n_rooms', 'n_bathrooms', 'n_floors', 'buy_price']\n",
    "binary_cols = ['is_renewal_needed', 'has_lift', 'is_exterior', 'has_parking']\n",
    "multiclass_cols = ['energy_certificate', 'house_type']\n",
    "\n",
    "p1 = len(quant_cols)\n",
    "p2 = len(binary_cols)\n",
    "p3 = len(multiclass_cols)\n",
    "\n",
    "data = pd.read_csv(data_url)\n",
    "\n",
    "kfold_fast_kmedoids = FoldFastKmedoidsGGower(n_clusters=3, method='pam', init='heuristic', max_iter=100, random_state=123,\n",
    "                                             frac_sample_size=0.1, n_splits=10, shuffle=True, kfold_random_state=123,\n",
    "                                             p1=p1, p2=p2, p3=p3, d1='robust_mahalanobis', d2='jaccard', d3='hamming', \n",
    "                                             robust_method='trimmed', alpha=0.05, epsilon=0.05, n_iters=20,\n",
    "                                             fast_VG=False, VG_sample_size=1000, VG_n_samples=5)\n",
    "kfold_fast_kmedoids.fit(X=data) \n",
    "\n",
    "kfold_fast_kmedoids.labels_\n",
    "```\n",
    "```\n",
    "array([0, 1, 1, ..., 1, 1, 1])\n",
    "```"
   ]
  }
 ],
 "metadata": {
  "kernelspec": {
   "display_name": ".venv (3.12.0)",
   "language": "python",
   "name": "python3"
  },
  "language_info": {
   "codemirror_mode": {
    "name": "ipython",
    "version": 3
   },
   "file_extension": ".py",
   "mimetype": "text/x-python",
   "name": "python",
   "nbconvert_exporter": "python",
   "pygments_lexer": "ipython3",
   "version": "3.12.0"
  }
 },
 "nbformat": 4,
 "nbformat_minor": 5
}
